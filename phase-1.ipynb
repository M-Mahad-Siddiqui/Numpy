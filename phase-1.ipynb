{
 "cells": [
  {
   "cell_type": "markdown",
   "id": "9b12f240",
   "metadata": {},
   "source": [
    "## Numpy array and basics\n",
    "- learn about numpy with chai aur code"
   ]
  },
  {
   "cell_type": "markdown",
   "id": "ec95f2b1",
   "metadata": {},
   "source": [
    "## Numpy array and basics\n",
    "- learn about numpy with chai aur code"
   ]
  },
  {
   "cell_type": "markdown",
   "id": "1a1b60cf",
   "metadata": {},
   "source": [
    "## Creating array from list"
   ]
  },
  {
   "cell_type": "code",
   "execution_count": null,
   "id": "a7d6f7c6",
   "metadata": {},
   "outputs": [
    {
     "name": "stdout",
     "output_type": "stream",
     "text": [
      "1D array: [1 2 3 4 5]\n",
      "2D array: [[1 2 3]\n",
      " [4 5 6]]\n"
     ]
    }
   ],
   "source": [
    "import numpy as np  # Make sure NumPy is imported\n",
    "\n",
    "# Creating 1D array\n",
    "arr_1d = np.array([1, 2, 3, 4, 5])\n",
    "print(\"1D array:\", arr_1d)\n",
    "\n",
    "# Creating 2D array from list of lists\n",
    "arr_2d = np.array([[1, 2, 3], [4, 5, 6]])\n",
    "print(\"2D array:\", arr_2d)"
   ]
  },
  {
   "cell_type": "markdown",
   "id": "ef2e8686",
   "metadata": {},
   "source": [
    "### List vs Numpy array"
   ]
  },
  {
   "cell_type": "code",
   "execution_count": 17,
   "id": "003f0db6",
   "metadata": {},
   "outputs": [
    {
     "name": "stdout",
     "output_type": "stream",
     "text": [
      "Python list multiplication: [1, 2, 3, 4, 5, 1, 2, 3, 4, 5]\n",
      "NumPy array multiplication: [ 2  4  6  8 10]\n",
      "Python list multiplication time: 0.10563254356384277\n",
      "NumPy array multiplication time: 0.013555049896240234\n"
     ]
    }
   ],
   "source": [
    "py_list = [1, 2, 3, 4, 5]  \n",
    "print(\"Python list multiplication:\", py_list * 2)\n",
    "\n",
    "np_array = np.array([1, 2, 3, 4, 5]) # element wise multiplication\n",
    "print(\"NumPy array multiplication:\", np_array * 2)\n",
    "\n",
    "import time\n",
    "start_time = time.time()\n",
    "py_list = [1*2 for i in range(1000000)]\n",
    "end_time = time.time()\n",
    "print(\"Python list multiplication time:\", end_time - start_time)\n",
    "\n",
    "\n",
    "start_time = time.time()\n",
    "np_array = np.arange(1000000) * 2\n",
    "end_time = time.time()\n",
    "print(\"NumPy array multiplication time:\", end_time - start_time)"
   ]
  },
  {
   "cell_type": "markdown",
   "id": "f939472b",
   "metadata": {
    "tags": [
     "parameters"
    ]
   },
   "source": [
    "### creating array from scratch\n"
   ]
  },
  {
   "cell_type": "code",
   "execution_count": 21,
   "id": "03f787ab",
   "metadata": {},
   "outputs": [
    {
     "name": "stdout",
     "output_type": "stream",
     "text": [
      "Zeros array: \n",
      " [[0. 0. 0. 0.]\n",
      " [0. 0. 0. 0.]\n",
      " [0. 0. 0. 0.]]\n",
      "Ones array: \n",
      " [[1. 1. 1. 1.]\n",
      " [1. 1. 1. 1.]\n",
      " [1. 1. 1. 1.]]\n",
      "Full array: \n",
      " [[5 5 5 5]\n",
      " [5 5 5 5]\n",
      " [5 5 5 5]]\n",
      "Random array: \n",
      " [[0.90603905 0.4123312  0.961155  ]\n",
      " [0.90479411 0.61580687 0.11298061]]\n",
      "Sequence array: \n",
      " [1 3 5 7 9]\n"
     ]
    }
   ],
   "source": [
    "zeros = np.zeros((3, 4))\n",
    "print(\"Zeros array: \\n\", zeros)\n",
    "\n",
    "ones = np.ones((3, 4))\n",
    "print(\"Ones array: \\n\", ones)\n",
    "\n",
    "full =np.full((3, 4), 5)\n",
    "print(\"Full array: \\n\", full)\n",
    "\n",
    "random = np.random.random((2, 3))\n",
    "print(\"Random array: \\n\", random)\n",
    "\n",
    "sequence = np.arange(1, 10, 2)\n",
    "print(\"Sequence array: \\n\", sequence)\n"
   ]
  },
  {
   "cell_type": "code",
   "execution_count": 22,
   "id": "8499842f",
   "metadata": {},
   "outputs": [],
   "source": [
    "\n",
    "### Vector, Matrix, Tensor"
   ]
  },
  {
   "cell_type": "code",
   "execution_count": 28,
   "id": "e2c34fe4",
   "metadata": {},
   "outputs": [
    {
     "name": "stdout",
     "output_type": "stream",
     "text": [
      "Vector: \n",
      " [1 2 3]\n",
      "Matrix: \n",
      " [[1 2 3]\n",
      " [4 5 6]\n",
      " [7 8 9]]\n",
      "Tensor: \n",
      " [[[1 2 3]\n",
      "  [4 5 6]\n",
      "  [7 8 9]]\n",
      "\n",
      " [[1 2 3]\n",
      "  [4 5 6]\n",
      "  [7 8 9]]]\n"
     ]
    }
   ],
   "source": [
    "vector = np.array([1,2,3])\n",
    "print(\"Vector: \\n\", vector)\n",
    "\n",
    "matrix = np.array([[1,2,3], [4,5,6], [7,8,9]])\n",
    "print(\"Matrix: \\n\", matrix)\n",
    "\n",
    "tensor = np.array([[[1,2,3], [4,5,6], [7,8,9]], [[1,2,3], [4,5,6], [7,8,9]]])\n",
    "print(\"Tensor: \\n\", tensor)"
   ]
  },
  {
   "cell_type": "markdown",
   "id": "35164e5f",
   "metadata": {},
   "source": [
    "## Array properties"
   ]
  },
  {
   "cell_type": "code",
   "execution_count": 29,
   "id": "41d7125f",
   "metadata": {},
   "outputs": [
    {
     "name": "stdout",
     "output_type": "stream",
     "text": [
      "Array shape: (3, 3)\n",
      "Array data type: int64\n",
      "Array size: 9\n",
      "Array dimension: 2\n",
      "Array item size: 8\n"
     ]
    }
   ],
   "source": [
    "arr = np.array([[1, 2, 3], [4, 5, 6], [7, 8, 9]])\n",
    "print(\"Array shape:\", arr.shape)\n",
    "print(\"Array data type:\", arr.dtype)\n",
    "print(\"Array size:\", arr.size)\n",
    "print(\"Array dimension:\", arr.ndim)\n",
    "print(\"Array item size:\", arr.itemsize)"
   ]
  },
  {
   "cell_type": "markdown",
   "id": "6dbf8b6a",
   "metadata": {},
   "source": [
    "## Array Reshaping"
   ]
  },
  {
   "cell_type": "code",
   "execution_count": 34,
   "id": "ab971c0f",
   "metadata": {},
   "outputs": [
    {
     "name": "stdout",
     "output_type": "stream",
     "text": [
      "Original array: [ 0  1  2  3  4  5  6  7  8  9 10 11]\n",
      "Reshaped array: \n",
      " [[ 0  1  2  3]\n",
      " [ 4  5  6  7]\n",
      " [ 8  9 10 11]]\n",
      "Flattened array: [ 0  1  2  3  4  5  6  7  8  9 10 11]\n",
      "Raveled array: [ 0  1  2  3  4  5  6  7  8  9 10 11]\n",
      "Transposed array: \n",
      " [[ 0  4  8]\n",
      " [ 1  5  9]\n",
      " [ 2  6 10]\n",
      " [ 3  7 11]]\n",
      "Swapped axes array: \n",
      " [[ 0  4  8]\n",
      " [ 1  5  9]\n",
      " [ 2  6 10]\n",
      " [ 3  7 11]]\n"
     ]
    }
   ],
   "source": [
    "arr = np.arange(12)\n",
    "print(\"Original array:\", arr)\n",
    "\n",
    "reshaped_arr = arr.reshape((3, 4))\n",
    "print(\"Reshaped array: \\n\", reshaped_arr)\n",
    "\n",
    "flattened_arr = reshaped_arr.flatten()\n",
    "print(\"Flattened array:\", flattened_arr)\n",
    "\n",
    "# ravel (returns view, instead of copy)\n",
    "raveled_arr = reshaped_arr.ravel()\n",
    "print(\"Raveled array:\", raveled_arr)\n",
    "\n",
    "# transpose\n",
    "transposed_arr = reshaped_arr.T\n",
    "print(\"Transposed array: \\n\", transposed_arr)\n",
    "\n",
    "# swapaxes\n",
    "swapped_arr = reshaped_arr.swapaxes(0, 1)\n",
    "print(\"Swapped axes array: \\n\", swapped_arr)"
   ]
  }
 ],
 "metadata": {
  "kernelspec": {
   "display_name": "env",
   "language": "python",
   "name": "python3"
  },
  "language_info": {
   "codemirror_mode": {
    "name": "ipython",
    "version": 3
   },
   "file_extension": ".py",
   "mimetype": "text/x-python",
   "name": "python",
   "nbconvert_exporter": "python",
   "pygments_lexer": "ipython3",
   "version": "3.11.9"
  }
 },
 "nbformat": 4,
 "nbformat_minor": 5
}
