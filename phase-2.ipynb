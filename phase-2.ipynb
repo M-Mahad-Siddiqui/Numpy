{
 "cells": [
  {
   "cell_type": "markdown",
   "id": "6c85ff0d",
   "metadata": {},
   "source": [
    "## Numpy Array operationa"
   ]
  },
  {
   "cell_type": "code",
   "execution_count": 7,
   "id": "79413061",
   "metadata": {},
   "outputs": [],
   "source": [
    "import numpy as np"
   ]
  },
  {
   "cell_type": "code",
   "execution_count": 11,
   "id": "04858a22",
   "metadata": {},
   "outputs": [
    {
     "name": "stdout",
     "output_type": "stream",
     "text": [
      "Basic Slicing [3 4 5 6 7]\n",
      "Negative indexing  10\n",
      "Reverse Slicing [10  9  8  7  6  5  4  3  2  1]\n",
      "Step Slicing [1 3 5 7 9]\n",
      "Step Slicing [ 1  4  7 10]\n"
     ]
    }
   ],
   "source": [
    "arr = np.array([1,2,3,4,5,6,7,8,9,10])\n",
    "print(\"Basic Slicing\",arr[2:7])\n",
    "print(\"Negative indexing \", arr[-1])\n",
    "print(\"Reverse Slicing\",arr[-1::-1])\n",
    "print(\"Step Slicing\",arr[0:10:2])\n",
    "print(\"Step Slicing\",arr[0:10:3])\n"
   ]
  },
  {
   "cell_type": "code",
   "execution_count": 15,
   "id": "fb235c82",
   "metadata": {},
   "outputs": [
    {
     "name": "stdout",
     "output_type": "stream",
     "text": [
      "specific element 5\n",
      "Entire Row:  [4 5 6]\n",
      "Entire Column:  [2 5 8]\n"
     ]
    }
   ],
   "source": [
    "arr_2d = np.array([[1,2,3]\n",
    "                ,[4,5,6]\n",
    "                ,[7,8,9]])\n",
    "print(\"specific element\",arr_2d[1][1])\n",
    "print(\"Entire Row: \",arr_2d[1])\n",
    "print(\"Entire Column: \",arr_2d[:,1])"
   ]
  },
  {
   "cell_type": "markdown",
   "id": "7aea9f0e",
   "metadata": {},
   "source": [
    "### Sorting"
   ]
  },
  {
   "cell_type": "code",
   "execution_count": 20,
   "id": "a703c8f4",
   "metadata": {},
   "outputs": [
    {
     "name": "stdout",
     "output_type": "stream",
     "text": [
      "Unsorted Array:  [5 2 6 1 3 4]\n",
      "Sorted Array:  [1 2 3 4 5 6]\n",
      "Unsorted Array:  [[6 2 3]\n",
      " [7 8 9]\n",
      " [4 5 1]]\n",
      "Sorted  2D Array by column:  [[4 2 1]\n",
      " [6 5 3]\n",
      " [7 8 9]]\n",
      "Sorted  2D Array by row:  [[2 3 6]\n",
      " [7 8 9]\n",
      " [1 4 5]]\n"
     ]
    }
   ],
   "source": [
    "unsorted = np.array([5,2,6,1,3,4])\n",
    "sorted = np.sort(unsorted)\n",
    "print(\"Unsorted Array: \",unsorted)\n",
    "print(\"Sorted Array: \",sorted)\n",
    "\n",
    "arr_2d = np.array([[6,2,3]\n",
    "                ,[7,8,9],\n",
    "                [4,5,1],])\n",
    "print(\"Unsorted Array: \",arr_2d)\n",
    "print(\"Sorted  2D Array by column: \", np.sort(arr_2d, axis=0))\n",
    "print(\"Sorted  2D Array by row: \", np.sort(arr_2d, axis=1))"
   ]
  },
  {
   "cell_type": "markdown",
   "id": "69333883",
   "metadata": {},
   "source": [
    "## Filter"
   ]
  },
  {
   "cell_type": "code",
   "execution_count": 21,
   "id": "1fc15e28",
   "metadata": {},
   "outputs": [
    {
     "name": "stdout",
     "output_type": "stream",
     "text": [
      "Even Numbers:  [ 2  4  6  8 10]\n"
     ]
    }
   ],
   "source": [
    "numbers = np.array([1,2,3,4,5,6,7,8,9,10])\n",
    "even_numbers = numbers[numbers % 2 == 0]\n",
    "print(\"Even Numbers: \",even_numbers)    "
   ]
  },
  {
   "cell_type": "code",
   "execution_count": null,
   "id": "edb046a1",
   "metadata": {},
   "outputs": [],
   "source": [
    "## Filter with mask"
   ]
  },
  {
   "cell_type": "code",
   "execution_count": 24,
   "id": "22c6af2d",
   "metadata": {},
   "outputs": [
    {
     "name": "stdout",
     "output_type": "stream",
     "text": [
      "Number Greater than 5:  [ 6  7  8  9 10]\n"
     ]
    }
   ],
   "source": [
    "mask = numbers > 5\n",
    "print(\"Number Greater than 5: \", numbers[mask])"
   ]
  },
  {
   "cell_type": "markdown",
   "id": "ee97e3af",
   "metadata": {},
   "source": [
    "## Fancy Indexing VS np.where()"
   ]
  },
  {
   "cell_type": "code",
   "execution_count": 30,
   "id": "8854ee09",
   "metadata": {},
   "outputs": [
    {
     "name": "stdout",
     "output_type": "stream",
     "text": [
      "Numbers at indices:  [1 3 5]\n",
      "where_result (array([5, 6, 7, 8, 9]),)\n",
      "Numbers Greater than 5:  [ 6  7  8  9 10]\n"
     ]
    }
   ],
   "source": [
    "indices = [0, 2, 4]\n",
    "print(\"Numbers at indices: \", numbers[indices])\n",
    "\n",
    "where_result = np.where(numbers > 5)\n",
    "print(\"where_result\" , where_result)\n",
    "print(\"Numbers Greater than 5: \", numbers[where_result])"
   ]
  },
  {
   "cell_type": "code",
   "execution_count": null,
   "id": "ab9d49cb",
   "metadata": {
    "tags": [
     "parameters"
    ]
   },
   "outputs": [
    {
     "name": "stdout",
     "output_type": "stream",
     "text": [
      "[ 1  2  3  4  5 12 14 16 18 20]\n"
     ]
    }
   ],
   "source": [
    "condition_array = np.where(numbers > 5, numbers * 2, numbers) # like ternary operator number > 5 ? number * 2 : number\n",
    "print(condition_array)"
   ]
  },
  {
   "cell_type": "markdown",
   "id": "3032080a",
   "metadata": {},
   "source": []
  },
  {
   "cell_type": "code",
   "execution_count": 35,
   "id": "f38a61c2",
   "metadata": {
    "vscode": {
     "languageId": "markdown"
    }
   },
   "outputs": [],
   "source": [
    "## Adding and removing elements"
   ]
  },
  {
   "cell_type": "code",
   "execution_count": 36,
   "id": "89ced0bc",
   "metadata": {},
   "outputs": [
    {
     "name": "stdout",
     "output_type": "stream",
     "text": [
      "Concatenated Array:  [ 1  2  3  4  5  6  7  8  9 10]\n",
      "Stacked Array:  [[ 1  2  3  4  5]\n",
      " [ 6  7  8  9 10]]\n",
      "Horizontal Stack:  [ 1  2  3  4  5  6  7  8  9 10]\n",
      "Vertical Stack:  [[ 1  2  3  4  5]\n",
      " [ 6  7  8  9 10]]\n"
     ]
    }
   ],
   "source": [
    "arr1 = np.array([1,2,3,4,5])\n",
    "arr2 = np.array([6,7,8,9,10])\n",
    "\n",
    "print(\"Concatenated Array: \",np.concatenate((arr1,arr2)))\n",
    "print(\"Stacked Array: \",np.stack((arr1,arr2)))\n",
    "print(\"Horizontal Stack: \",np.hstack((arr1,arr2)))\n",
    "print(\"Vertical Stack: \",np.vstack((arr1,arr2)))"
   ]
  },
  {
   "cell_type": "markdown",
   "id": "3b4a9c5a",
   "metadata": {},
   "source": [
    "### Array compatibilty"
   ]
  },
  {
   "cell_type": "code",
   "execution_count": 37,
   "id": "ed246db0",
   "metadata": {},
   "outputs": [
    {
     "name": "stdout",
     "output_type": "stream",
     "text": [
      "compatibilty:  True\n",
      "compaibility:  (3, 3)\n"
     ]
    }
   ],
   "source": [
    "a = np.array([1,2,3])\n",
    "b = np.array([4,5,6])\n",
    "c = np.array([7,8,9])\n",
    "\n",
    "print(\"compatibilty: \", a.shape == b.shape)\n",
    "print(\"compaibility: \",np.stack((a,b,c)).shape)"
   ]
  },
  {
   "cell_type": "code",
   "execution_count": 41,
   "id": "b62e99c6",
   "metadata": {},
   "outputs": [
    {
     "name": "stdout",
     "output_type": "stream",
     "text": [
      "Original Array: \n",
      " [[1 2]\n",
      " [3 4]]\n",
      "New Row:  [5 6]\n",
      "With New Row: \n",
      " [[1 2]\n",
      " [3 4]\n",
      " [5 6]]\n",
      "With New Column: \n",
      " [[1 2 5]\n",
      " [3 4 6]]\n"
     ]
    }
   ],
   "source": [
    "original = np.array([[1, 2], [3, 4]])\n",
    "new_row = np.array([5, 6])\n",
    "\n",
    "with_new_row = np.vstack((original, new_row))\n",
    "print(\"Original Array: \\n\", original)\n",
    "print(\"New Row: \", new_row)\n",
    "print(\"With New Row: \\n\", with_new_row)\n",
    "\n",
    "with_new_column = np.hstack((original, new_row.reshape(2, 1)))\n",
    "print(\"With New Column: \\n\", with_new_column)"
   ]
  },
  {
   "cell_type": "code",
   "execution_count": 42,
   "id": "b77a7fd6",
   "metadata": {},
   "outputs": [
    {
     "name": "stdout",
     "output_type": "stream",
     "text": [
      "Deleted Array:  [1 2 4 5]\n",
      "Inserted Array:  [ 1  2 10  3  4  5]\n",
      "Repeated Array:  [1 1 2 2 3 3 4 4 5 5]\n"
     ]
    }
   ],
   "source": [
    "arr = np.array([1,2,3,4,5])\n",
    "deleted = np.delete(arr, 2)\n",
    "print(\"Deleted Array: \",deleted)\n",
    "inserted = np.insert(arr, 2, 10)\n",
    "print(\"Inserted Array: \",inserted)\n",
    "repeated = np.repeat(arr, 2)\n",
    "print(\"Repeated Array: \",repeated)\n"
   ]
  }
 ],
 "metadata": {
  "kernelspec": {
   "display_name": "env",
   "language": "python",
   "name": "python3"
  },
  "language_info": {
   "codemirror_mode": {
    "name": "ipython",
    "version": 3
   },
   "file_extension": ".py",
   "mimetype": "text/x-python",
   "name": "python",
   "nbconvert_exporter": "python",
   "pygments_lexer": "ipython3",
   "version": "3.11.9"
  }
 },
 "nbformat": 4,
 "nbformat_minor": 5
}
